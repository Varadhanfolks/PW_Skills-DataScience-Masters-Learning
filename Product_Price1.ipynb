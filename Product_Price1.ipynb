{
 "cells": [
  {
   "cell_type": "code",
   "execution_count": null,
   "id": "b15e7325-ed2a-49e7-a668-c86a0b8fb85f",
   "metadata": {},
   "outputs": [],
   "source": [
    "## Product Price Programme\n",
    "# Ths Program Explains Product price after discount and prints old price, discount and new price after discount\n",
    "\n",
    "\n",
    "Product_Price=int(input(\"Please enter the product price: \"))\n",
    "Discount=0\n",
    "#print(\"Product Price is : {}\".format(Product_Price))\n",
    "if Product_Price>=3000:\n",
    "    Discount = \"20%\"\n",
    "    print(\"Original Product Price is Rs.{oldprice} and discount allowed is {discountallowed} and New Price after discount is Rs.{newprice}\".format(oldprice=Product_Price,discountallowed=Discount,newprice=Product_Price*.8))\n",
    "\n",
    "elif Product_Price>=2000 and Product_Price<3000:\n",
    "    Discount=\"30%\"\n",
    "    print(\"Original Product Price is Rs.{oldprice} and discount allowed is {discountallowed} and New Price after discount is Rs.{newprice}\".format(oldprice=Product_Price,discountallowed=Discount,newprice=Product_Price*.7))\n",
    "    \n",
    "elif Product_Price>=1000 and Product_Price<2000:\n",
    "    Discount=\"40%\"\n",
    "    print(\"Original Product Price is Rs.{oldprice} and discount allowed is {discountallowed} and New Price after discount is Rs.{newprice}\".format(oldprice=Product_Price,discountallowed=Discount,newprice=Product_Price*.6))\n",
    "else:\n",
    "    print(\"No discount is allowed and product price is Rs.{oldprice}\".format(oldprice=Product_Price))\n"
   ]
  },
  {
   "cell_type": "code",
   "execution_count": null,
   "id": "3e45796d-540f-4624-9928-cdfabd14de36",
   "metadata": {},
   "outputs": [],
   "source": []
  }
 ],
 "metadata": {
  "kernelspec": {
   "display_name": "Python 3 (ipykernel)",
   "language": "python",
   "name": "python3"
  },
  "language_info": {
   "codemirror_mode": {
    "name": "ipython",
    "version": 3
   },
   "file_extension": ".py",
   "mimetype": "text/x-python",
   "name": "python",
   "nbconvert_exporter": "python",
   "pygments_lexer": "ipython3",
   "version": "3.10.8"
  }
 },
 "nbformat": 4,
 "nbformat_minor": 5
}
